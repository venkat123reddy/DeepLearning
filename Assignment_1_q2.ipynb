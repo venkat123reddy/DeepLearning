{
  "nbformat": 4,
  "nbformat_minor": 0,
  "metadata": {
    "colab": {
      "provenance": [],
      "authorship_tag": "ABX9TyMOsKU/2NgnGaP56I4E5UHR",
      "include_colab_link": true
    },
    "kernelspec": {
      "name": "python3",
      "display_name": "Python 3"
    },
    "language_info": {
      "name": "python"
    }
  },
  "cells": [
    {
      "cell_type": "markdown",
      "metadata": {
        "id": "view-in-github",
        "colab_type": "text"
      },
      "source": [
        "<a href=\"https://colab.research.google.com/github/venkat123reddy/DeepLearning/blob/main/Assignment_1_q2.ipynb\" target=\"_parent\"><img src=\"https://colab.research.google.com/assets/colab-badge.svg\" alt=\"Open In Colab\"/></a>"
      ]
    },
    {
      "cell_type": "code",
      "execution_count": 1,
      "metadata": {
        "id": "Nw_Cbsqjnh7L"
      },
      "outputs": [],
      "source": [
        "import tensorflow as tf\n",
        "import numpy as np\n",
        "import matplotlib.pyplot as plt"
      ]
    },
    {
      "cell_type": "code",
      "source": [
        "# Step 1: Define true labels (one-hot encoded for 3 classes)\n",
        "y_true = tf.constant([\n",
        "    [1, 0, 0],  # Class 0\n",
        "    [0, 1, 0],  # Class 1\n",
        "    [0, 0, 1]   # Class 2\n",
        "], dtype=tf.float32)"
      ],
      "metadata": {
        "id": "AHobgOXpnz3u"
      },
      "execution_count": 2,
      "outputs": []
    },
    {
      "cell_type": "code",
      "source": [
        "# Step 2: Define two sets of predictions\n",
        "# y_pred1 is close to correct classes (good predictions)\n",
        "y_pred1 = tf.constant([\n",
        "    [0.9, 0.05, 0.05],\n",
        "    [0.1, 0.8, 0.1],\n",
        "    [0.05, 0.1, 0.85]\n",
        "], dtype=tf.float32)"
      ],
      "metadata": {
        "id": "GOMGLJHyn8WN"
      },
      "execution_count": 3,
      "outputs": []
    },
    {
      "cell_type": "code",
      "source": [
        "# y_pred2 is more uncertain (Bad predictions)\n",
        "y_pred2 = tf.constant([\n",
        "    [0.6, 0.2, 0.2],\n",
        "    [0.2, 0.6, 0.2],\n",
        "    [0.2, 0.2, 0.6]\n",
        "], dtype=tf.float32)"
      ],
      "metadata": {
        "id": "PbFINSSOoBvA"
      },
      "execution_count": 5,
      "outputs": []
    },
    {
      "cell_type": "code",
      "source": [
        "# Step 3: Initialize loss functions\n",
        "mse = tf.keras.losses.MeanSquaredError()\n",
        "cce = tf.keras.losses.CategoricalCrossentropy()"
      ],
      "metadata": {
        "id": "oZXRxzVOoK39"
      },
      "execution_count": 6,
      "outputs": []
    },
    {
      "cell_type": "code",
      "source": [
        "# Step 4: Compute loss values for both predictions\n",
        "mse_val1 = mse(y_true, y_pred1).numpy()\n",
        "mse_val2 = mse(y_true, y_pred2).numpy()\n",
        "cce_val1 = cce(y_true, y_pred1).numpy()\n",
        "cce_val2 = cce(y_true, y_pred2).numpy()"
      ],
      "metadata": {
        "id": "QR99TYxRoN6u"
      },
      "execution_count": 7,
      "outputs": []
    },
    {
      "cell_type": "code",
      "source": [
        "# Step 5: Display the loss values\n",
        "print(\"Loss for Good Predictions:\")\n",
        "print(f\" - Mean Squared Error (MSE): {mse_val1:.4f}\")\n",
        "print(f\" - Categorical Cross-Entropy (CCE): {cce_val1:.4f}\")"
      ],
      "metadata": {
        "colab": {
          "base_uri": "https://localhost:8080/"
        },
        "id": "JEYbZbxVoSH1",
        "outputId": "17b392b4-6348-4c1f-fb80-b1ee17b6734f"
      },
      "execution_count": 8,
      "outputs": [
        {
          "output_type": "stream",
          "name": "stdout",
          "text": [
            "Loss for Good Predictions:\n",
            " - Mean Squared Error (MSE): 0.0122\n",
            " - Categorical Cross-Entropy (CCE): 0.1637\n"
          ]
        }
      ]
    },
    {
      "cell_type": "code",
      "source": [
        "print(\"Loss for Worse Predictions:\")\n",
        "print(f\" - Mean Squared Error (MSE): {mse_val2:.4f}\")\n",
        "print(f\" - Categorical Cross-Entropy (CCE): {cce_val2:.4f}\")"
      ],
      "metadata": {
        "colab": {
          "base_uri": "https://localhost:8080/"
        },
        "id": "Ql6YOIIto-bm",
        "outputId": "93b5081b-c842-4d68-8787-b87f8056fba7"
      },
      "execution_count": 9,
      "outputs": [
        {
          "output_type": "stream",
          "name": "stdout",
          "text": [
            "Loss for Worse Predictions:\n",
            " - Mean Squared Error (MSE): 0.0800\n",
            " - Categorical Cross-Entropy (CCE): 0.5108\n"
          ]
        }
      ]
    },
    {
      "cell_type": "code",
      "source": [
        "# Step 6: Visualize the comparison using a bar chart\n",
        "labels = ['Good Predictions', 'Worse Predictions']\n",
        "mse_values = [mse_val1, mse_val2]\n",
        "cce_values = [cce_val1, cce_val2]\n",
        "x = np.arange(len(labels))\n",
        "width = 0.35"
      ],
      "metadata": {
        "id": "jIL72VL5pGDF"
      },
      "execution_count": 11,
      "outputs": []
    },
    {
      "cell_type": "code",
      "source": [
        "# Plotting the bars\n",
        "fig, ax = plt.subplots()\n",
        "ax.bar(x - width/2, mse_values, width, label='MSE', color='skyblue')\n",
        "ax.bar(x + width/2, cce_values, width, label='Cross-Entropy', color='salmon')"
      ],
      "metadata": {
        "colab": {
          "base_uri": "https://localhost:8080/",
          "height": 448
        },
        "id": "7LxogAf1pKxS",
        "outputId": "4ae9fc67-0c1f-4bc6-aace-34f9b308cfdf"
      },
      "execution_count": 12,
      "outputs": [
        {
          "output_type": "execute_result",
          "data": {
            "text/plain": [
              "<BarContainer object of 2 artists>"
            ]
          },
          "metadata": {},
          "execution_count": 12
        },
        {
          "output_type": "display_data",
          "data": {
            "text/plain": [
              "<Figure size 640x480 with 1 Axes>"
            ],
            "image/png": "[encoded data removed]"
          },
          "metadata": {}
        }
      ]
    },
    {
      "cell_type": "code",
      "source": [
        "# Adding labels and title\n",
        "ax.set_ylabel('Loss Value')\n",
        "ax.set_title('Comparison of MSE and Cross-Entropy Loss')\n",
        "ax.set_xticks(x)\n",
        "ax.set_xticklabels(labels)\n",
        "ax.legend()\n",
        "plt.grid(True, axis='y', linestyle='--', alpha=0.7)\n",
        "plt.tight_layout()\n",
        "plt.show()"
      ],
      "metadata": {
        "colab": {
          "base_uri": "https://localhost:8080/",
          "height": 487
        },
        "id": "NHoMiKMYpS5y",
        "outputId": "a61f1a18-ed43-4ba2-d287-805bbb6c5b1d"
      },
      "execution_count": 13,
      "outputs": [
        {
          "output_type": "display_data",
          "data": {
            "text/plain": [
              "<Figure size 640x480 with 1 Axes>"
            ],
            "image/png": "[encoded data removed]"
          },
          "metadata": {}
        }
      ]
    }
  ]
}