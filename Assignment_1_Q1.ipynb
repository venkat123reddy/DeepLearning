{
  "nbformat": 4,
  "nbformat_minor": 0,
  "metadata": {
    "colab": {
      "provenance": [],
      "authorship_tag": "ABX9TyNM6mpyRo5buiRWLqYycV7F",
      "include_colab_link": true
    },
    "kernelspec": {
      "name": "python3",
      "display_name": "Python 3"
    },
    "language_info": {
      "name": "python"
    }
  },
  "cells": [
    {
      "cell_type": "markdown",
      "metadata": {
        "id": "view-in-github",
        "colab_type": "text"
      },
      "source": [
        "<a href=\"https://colab.research.google.com/github/venkat123reddy/DeepLearning/blob/main/Assignment_1_Q1.ipynb\" target=\"_parent\"><img src=\"https://colab.research.google.com/assets/colab-badge.svg\" alt=\"Open In Colab\"/></a>"
      ]
    },
    {
      "cell_type": "code",
      "execution_count": 1,
      "metadata": {
        "id": "ug1XJ9PZ6tm4"
      },
      "outputs": [],
      "source": [
        "import tensorflow as tf"
      ]
    },
    {
      "cell_type": "code",
      "source": [
        "# Step 1: Create a random tensor of shape (4, 6)\n",
        "tensor = tf.random.uniform(shape=(4, 6))\n",
        "print(\"Original Tensor:\\n\", tensor)"
      ],
      "metadata": {
        "colab": {
          "base_uri": "https://localhost:8080/"
        },
        "id": "k_Vrp2sr80X6",
        "outputId": "a60c366a-0327-4aaf-e919-db104a1306bb"
      },
      "execution_count": 3,
      "outputs": [
        {
          "output_type": "stream",
          "name": "stdout",
          "text": [
            "Original Tensor:\n",
            " tf.Tensor(\n",
            "[[0.6715152  0.81201863 0.6304853  0.33876002 0.26223028 0.4755398 ]\n",
            " [0.03197324 0.69418776 0.94581604 0.44487786 0.01668    0.5371027 ]\n",
            " [0.20518327 0.9058622  0.81287324 0.6412629  0.01367557 0.91888547]\n",
            " [0.08205307 0.10606432 0.4122926  0.63035    0.0110358  0.08660662]], shape=(4, 6), dtype=float32)\n"
          ]
        }
      ]
    },
    {
      "cell_type": "code",
      "source": [
        "rank_original = tf.rank(tensor).numpy()\n",
        "shape_original = tf.shape(tensor).numpy()\n",
        "print(f\"Original Rank: {rank_original}\")\n",
        "print(f\"Original Shape: {shape_original}\")"
      ],
      "metadata": {
        "colab": {
          "base_uri": "https://localhost:8080/"
        },
        "id": "SFnsxIGl83eR",
        "outputId": "ffbd2a4f-c372-466b-d7eb-15d20bf70e61"
      },
      "execution_count": 4,
      "outputs": [
        {
          "output_type": "stream",
          "name": "stdout",
          "text": [
            "Original Rank: 2\n",
            "Original Shape: [4 6]\n"
          ]
        }
      ]
    },
    {
      "cell_type": "code",
      "source": [
        "# Step 3: Reshape it to (2, 3, 4) and transpose it to (3, 2, 4)\n",
        "reshaped_tensor = tf.reshape(tensor, (2, 3, 4))\n",
        "transposed_tensor = tf.transpose(reshaped_tensor, perm=[1, 0, 2])"
      ],
      "metadata": {
        "id": "sTo--Ty48-d3"
      },
      "execution_count": 5,
      "outputs": []
    },
    {
      "cell_type": "code",
      "source": [
        "# Display the reshaped and transposed tensor\n",
        "print(\"Transposed Tensor (shape [3, 2, 4]):\\n\", transposed_tensor)"
      ],
      "metadata": {
        "colab": {
          "base_uri": "https://localhost:8080/"
        },
        "id": "ZLqG_afG9C4d",
        "outputId": "85fa7de8-d261-40a2-da3c-46234042e6f7"
      },
      "execution_count": 6,
      "outputs": [
        {
          "output_type": "stream",
          "name": "stdout",
          "text": [
            "Transposed Tensor (shape [3, 2, 4]):\n",
            " tf.Tensor(\n",
            "[[[0.6715152  0.81201863 0.6304853  0.33876002]\n",
            "  [0.20518327 0.9058622  0.81287324 0.6412629 ]]\n",
            "\n",
            " [[0.26223028 0.4755398  0.03197324 0.69418776]\n",
            "  [0.01367557 0.91888547 0.08205307 0.10606432]]\n",
            "\n",
            " [[0.94581604 0.44487786 0.01668    0.5371027 ]\n",
            "  [0.4122926  0.63035    0.0110358  0.08660662]]], shape=(3, 2, 4), dtype=float32)\n"
          ]
        }
      ]
    },
    {
      "cell_type": "code",
      "source": [
        "# Print new rank and shape after transformation\n",
        "rank_transposed = tf.rank(transposed_tensor).numpy()\n",
        "shape_transposed = tf.shape(transposed_tensor).numpy()\n",
        "print(f\" Transposed Rank: {rank_transposed}\")\n",
        "print(f\" Transposed Shape: {shape_transposed}\")"
      ],
      "metadata": {
        "colab": {
          "base_uri": "https://localhost:8080/"
        },
        "id": "fnAwppZG9Ieh",
        "outputId": "8ac1eb7a-ff7a-410b-dcb6-09256224fd06"
      },
      "execution_count": 7,
      "outputs": [
        {
          "output_type": "stream",
          "name": "stdout",
          "text": [
            " Transposed Rank: 3\n",
            " Transposed Shape: [3 2 4]\n"
          ]
        }
      ]
    },
    {
      "cell_type": "code",
      "source": [
        "# Step 4: Create a smaller tensor of shape (1, 4) and broadcast it\n",
        "smaller_tensor = tf.random.uniform(shape=(1, 4))"
      ],
      "metadata": {
        "id": "6YVSpBd79UmI"
      },
      "execution_count": 8,
      "outputs": []
    },
    {
      "cell_type": "code",
      "source": [
        "# Broadcasted addition - TensorFlow automatically broadcasts the smaller tensor\n",
        "broadcasted_result = transposed_tensor + smaller_tensor\n",
        "print(\"Result after broadcasting and adding:\\n\", broadcasted_result)"
      ],
      "metadata": {
        "colab": {
          "base_uri": "https://localhost:8080/"
        },
        "id": "BpzoxySY9Y0n",
        "outputId": "69ae2660-fe36-45be-bf87-8d72e36d2a63"
      },
      "execution_count": 9,
      "outputs": [
        {
          "output_type": "stream",
          "name": "stdout",
          "text": [
            "Result after broadcasting and adding:\n",
            " tf.Tensor(\n",
            "[[[0.8653048  1.4675436  1.2524858  0.47404075]\n",
            "  [0.39897287 1.5613872  1.4348737  0.7765436 ]]\n",
            "\n",
            " [[0.45601988 1.1310648  0.6539737  0.8294685 ]\n",
            "  [0.20746517 1.5744104  0.7040535  0.24134505]]\n",
            "\n",
            " [[1.1396056  1.1004028  0.63868046 0.6723834 ]\n",
            "  [0.6060822  1.285875   0.63303626 0.22188735]]], shape=(3, 2, 4), dtype=float32)\n"
          ]
        }
      ]
    },
    {
      "cell_type": "code",
      "source": [
        "# Step 5: Explanation of broadcasting in TensorFlow\n",
        "explanation = \"\"\"\n",
        "📘 TensorFlow Broadcasting:\n",
        "Broadcasting allows tensors of different shapes to be combined during arithmetic operations.\n",
        "In this case, a tensor of shape (1, 4) is broadcast across a (3, 2, 4) tensor,\n",
        "aligning on the last dimension (4) and expanding dimensions (1 → 3 and 2).\n",
        "\"\"\"\n",
        "print(explanation)"
      ],
      "metadata": {
        "colab": {
          "base_uri": "https://localhost:8080/"
        },
        "id": "xNt-ECxw9hIj",
        "outputId": "1193bbd5-025b-4ba2-dd8e-1e8e5e22e4ff"
      },
      "execution_count": 10,
      "outputs": [
        {
          "output_type": "stream",
          "name": "stdout",
          "text": [
            "\n",
            "📘 TensorFlow Broadcasting:\n",
            "Broadcasting allows tensors of different shapes to be combined during arithmetic operations.\n",
            "In this case, a tensor of shape (1, 4) is broadcast across a (3, 2, 4) tensor,\n",
            "aligning on the last dimension (4) and expanding dimensions (1 → 3 and 2).\n",
            "\n"
          ]
        }
      ]
    }
  ]
}