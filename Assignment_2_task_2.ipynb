{
  "nbformat": 4,
  "nbformat_minor": 0,
  "metadata": {
    "colab": {
      "provenance": [],
      "authorship_tag": "ABX9TyPuNsjFRRStAgqpSWgkDMPI",
      "include_colab_link": true
    },
    "kernelspec": {
      "name": "python3",
      "display_name": "Python 3"
    },
    "language_info": {
      "name": "python"
    }
  },
  "cells": [
    {
      "cell_type": "markdown",
      "metadata": {
        "id": "view-in-github",
        "colab_type": "text"
      },
      "source": [
        "<a href=\"https://colab.research.google.com/github/venkat123reddy/DeepLearning/blob/main/Assignment_2_task_2.ipynb\" target=\"_parent\"><img src=\"https://colab.research.google.com/assets/colab-badge.svg\" alt=\"Open In Colab\"/></a>"
      ]
    },
    {
      "cell_type": "code",
      "execution_count": 6,
      "metadata": {
        "colab": {
          "base_uri": "https://localhost:8080/"
        },
        "id": "-mrs7u95cCZu",
        "outputId": "3f09e719-e508-4b95-c40a-b9fe9eefc48d"
      },
      "outputs": [
        {
          "output_type": "stream",
          "name": "stdout",
          "text": [
            "Original 4x4 matrix:\n",
            " [[9. 0. 0. 7.]\n",
            " [1. 7. 8. 1.]\n",
            " [2. 9. 9. 6.]\n",
            " [8. 9. 6. 8.]]\n",
            "\n",
            "Max Pooled (2x2):\n",
            " [[9. 8.]\n",
            " [9. 9.]]\n",
            "\n",
            "Average Pooled (2x2):\n",
            " [[4.25 4.  ]\n",
            " [7.   7.25]]\n"
          ]
        }
      ],
      "source": [
        "import tensorflow as tf\n",
        "import numpy as np\n",
        "\n",
        "# Create a 4x4 random input matrix\n",
        "input_matrix = np.random.randint(0, 10, (1, 4, 4, 1)).astype(np.float32)\n",
        "\n",
        "# Max Pooling (2x2)\n",
        "max_pool = tf.nn.max_pool2d(input_matrix, ksize=2, strides=2, padding='VALID')\n",
        "\n",
        "# Average Pooling (2x2)\n",
        "avg_pool = tf.nn.avg_pool2d(input_matrix, ksize=2, strides=2, padding='VALID')\n",
        "\n",
        "# Display results\n",
        "print(\"Original 4x4 matrix:\\n\", input_matrix[0, :, :, 0])  # ✅ remove .numpy()\n",
        "print(\"\\nMax Pooled (2x2):\\n\", max_pool[0, :, :, 0].numpy())  # ✅ this is a Tensor\n",
        "print(\"\\nAverage Pooled (2x2):\\n\", avg_pool[0, :, :, 0].numpy())  # ✅ this is a Tensor\n"
      ]
    }
  ]
}