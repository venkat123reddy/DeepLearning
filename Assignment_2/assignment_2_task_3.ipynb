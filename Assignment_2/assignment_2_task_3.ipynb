{
  "nbformat": 4,
  "nbformat_minor": 0,
  "metadata": {
    "colab": {
      "provenance": [],
      "authorship_tag": "ABX9TyOASWc90f6hC5VaqNNCeP7Y",
      "include_colab_link": true
    },
    "kernelspec": {
      "name": "python3",
      "display_name": "Python 3"
    },
    "language_info": {
      "name": "python"
    }
  },
  "cells": [
    {
      "cell_type": "markdown",
      "metadata": {
        "id": "view-in-github",
        "colab_type": "text"
      },
      "source": [
        "<a href=\"https://colab.research.google.com/github/venkat123reddy/DeepLearning/blob/main/assignment_2_task_3.ipynb\" target=\"_parent\"><img src=\"https://colab.research.google.com/assets/colab-badge.svg\" alt=\"Open In Colab\"/></a>"
      ]
    },
    {
      "cell_type": "code",
      "execution_count": 1,
      "metadata": {
        "colab": {
          "base_uri": "https://localhost:8080/",
          "height": 962
        },
        "id": "K0HQ6AmneJRe",
        "outputId": "91218677-19f0-4c06-9e07-e056e78fdeb6"
      },
      "outputs": [
        {
          "output_type": "stream",
          "name": "stdout",
          "text": [
            "Original Dataset (first 5 rows):\n",
            "   sepal length (cm)  sepal width (cm)  petal length (cm)  petal width (cm)\n",
            "0                5.1               3.5                1.4               0.2\n",
            "1                4.9               3.0                1.4               0.2\n",
            "2                4.7               3.2                1.3               0.2\n",
            "3                4.6               3.1                1.5               0.2\n",
            "4                5.0               3.6                1.4               0.2\n",
            "\n",
            "Min-Max Normalized Dataset (first 5 rows):\n",
            "   sepal length (cm)  sepal width (cm)  petal length (cm)  petal width (cm)\n",
            "0           0.222222          0.625000           0.067797          0.041667\n",
            "1           0.166667          0.416667           0.067797          0.041667\n",
            "2           0.111111          0.500000           0.050847          0.041667\n",
            "3           0.083333          0.458333           0.084746          0.041667\n",
            "4           0.194444          0.666667           0.067797          0.041667\n",
            "\n",
            "Z-score Standardized Dataset (first 5 rows):\n",
            "   sepal length (cm)  sepal width (cm)  petal length (cm)  petal width (cm)\n",
            "0          -0.900681          1.019004          -1.340227         -1.315444\n",
            "1          -1.143017         -0.131979          -1.340227         -1.315444\n",
            "2          -1.385353          0.328414          -1.397064         -1.315444\n",
            "3          -1.506521          0.098217          -1.283389         -1.315444\n",
            "4          -1.021849          1.249201          -1.340227         -1.315444\n"
          ]
        },
        {
          "output_type": "display_data",
          "data": {
            "text/plain": [
              "<Figure size 1200x500 with 2 Axes>"
            ],
            "image/png": "[encoded data removed]"
          },
          "metadata": {}
        },
        {
          "output_type": "stream",
          "name": "stdout",
          "text": [
            "\n",
            "Accuracy without scaling: 1.0000\n",
            "Accuracy with Min-Max Normalization: 0.9111\n",
            "Accuracy with Z-score Standardization: 1.0000\n"
          ]
        }
      ],
      "source": [
        "import numpy as np\n",
        "import pandas as pd\n",
        "import matplotlib.pyplot as plt\n",
        "from sklearn.datasets import load_iris\n",
        "from sklearn.preprocessing import MinMaxScaler, StandardScaler\n",
        "from sklearn.linear_model import LogisticRegression\n",
        "from sklearn.model_selection import train_test_split\n",
        "from sklearn.metrics import accuracy_score\n",
        "\n",
        "# Step 1: Load the Iris dataset\n",
        "iris = load_iris()\n",
        "X = iris.data\n",
        "y = iris.target\n",
        "\n",
        "# Convert to DataFrame for better visualization\n",
        "df = pd.DataFrame(X, columns=iris.feature_names)\n",
        "\n",
        "print(\"Original Dataset (first 5 rows):\")\n",
        "print(df.head())\n",
        "\n",
        "# Step 2: Min-Max Normalization\n",
        "min_max_scaler = MinMaxScaler()\n",
        "X_norm = min_max_scaler.fit_transform(X)\n",
        "df_norm = pd.DataFrame(X_norm, columns=iris.feature_names)\n",
        "print(\"\\nMin-Max Normalized Dataset (first 5 rows):\")\n",
        "print(df_norm.head())\n",
        "\n",
        "# Step 3: Z-score Standardization\n",
        "std_scaler = StandardScaler()\n",
        "X_std = std_scaler.fit_transform(X)\n",
        "df_std = pd.DataFrame(X_std, columns=iris.feature_names)\n",
        "print(\"\\nZ-score Standardized Dataset (first 5 rows):\")\n",
        "print(df_std.head())\n",
        "\n",
        "# Visualization: Histograms\n",
        "plt.figure(figsize=(12, 5))\n",
        "plt.subplot(1, 2, 1)\n",
        "plt.hist(X_norm.flatten(), bins=20, color='skyblue')\n",
        "plt.title('Min-Max Normalization')\n",
        "\n",
        "plt.subplot(1, 2, 2)\n",
        "plt.hist(X_std.flatten(), bins=20, color='salmon')\n",
        "plt.title('Z-score Standardization')\n",
        "plt.tight_layout()\n",
        "plt.show()\n",
        "\n",
        "# Step 4: Train Logistic Regression Model\n",
        "\n",
        "# Split original dataset\n",
        "X_train, X_test, y_train, y_test = train_test_split(X, y, test_size=0.3, random_state=42)\n",
        "model = LogisticRegression(max_iter=200)\n",
        "model.fit(X_train, y_train)\n",
        "orig_acc = accuracy_score(y_test, model.predict(X_test))\n",
        "\n",
        "# On Normalized Data\n",
        "Xn_train, Xn_test, yn_train, yn_test = train_test_split(X_norm, y, test_size=0.3, random_state=42)\n",
        "model.fit(Xn_train, yn_train)\n",
        "norm_acc = accuracy_score(yn_test, model.predict(Xn_test))\n",
        "\n",
        "# On Standardized Data\n",
        "Xs_train, Xs_test, ys_train, ys_test = train_test_split(X_std, y, test_size=0.3, random_state=42)\n",
        "model.fit(Xs_train, ys_train)\n",
        "std_acc = accuracy_score(ys_test, model.predict(Xs_test))\n",
        "\n",
        "print(f\"\\nAccuracy without scaling: {orig_acc:.4f}\")\n",
        "print(f\"Accuracy with Min-Max Normalization: {norm_acc:.4f}\")\n",
        "print(f\"Accuracy with Z-score Standardization: {std_acc:.4f}\")\n"
      ]
    },
    {
      "cell_type": "code",
      "source": [
        "print('''Technique\tUse When...\n",
        "Normalization\n",
        "(Min-Max Scaling)\t- we know the data has fixed bounds (e.g., pixel values 0-255)\n",
        "- we want features between [0, 1] or [-1, 1]\n",
        "Standardization\n",
        "(Z-score Scaling)\t- Data follows a Gaussian (normal) distribution\n",
        "- Model assumes centered data (e.g., Logistic Regression, SVM, PCA)\n",
        "- Deep Learning models prefer zero-mean inputs for faster convergence''')"
      ],
      "metadata": {
        "colab": {
          "base_uri": "https://localhost:8080/"
        },
        "id": "jFkO-x-SeaNA",
        "outputId": "760eff26-37a6-49e4-bd6d-1b1b9a85af1c"
      },
      "execution_count": 4,
      "outputs": [
        {
          "output_type": "stream",
          "name": "stdout",
          "text": [
            "Technique\tUse When...\n",
            "Normalization\n",
            "(Min-Max Scaling)\t- we know the data has fixed bounds (e.g., pixel values 0-255)\n",
            "- we want features between [0, 1] or [-1, 1]\n",
            "Standardization\n",
            "(Z-score Scaling)\t- Data follows a Gaussian (normal) distribution\n",
            "- Model assumes centered data (e.g., Logistic Regression, SVM, PCA)\n",
            "- Deep Learning models prefer zero-mean inputs for faster convergence\n"
          ]
        }
      ]
    }
  ]
}