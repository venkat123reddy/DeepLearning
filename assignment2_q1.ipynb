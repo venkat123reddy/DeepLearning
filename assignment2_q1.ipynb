{
  "nbformat": 4,
  "nbformat_minor": 0,
  "metadata": {
    "colab": {
      "provenance": [],
      "authorship_tag": "ABX9TyMFsbUwbt37ai26Ywr/G3/D",
      "include_colab_link": true
    },
    "kernelspec": {
      "name": "python3",
      "display_name": "Python 3"
    },
    "language_info": {
      "name": "python"
    }
  },
  "cells": [
    {
      "cell_type": "markdown",
      "metadata": {
        "id": "view-in-github",
        "colab_type": "text"
      },
      "source": [
        "<a href=\"https://colab.research.google.com/github/venkat123reddy/DeepLearning/blob/main/assignment2_q1.ipynb\" target=\"_parent\"><img src=\"https://colab.research.google.com/assets/colab-badge.svg\" alt=\"Open In Colab\"/></a>"
      ]
    },
    {
      "cell_type": "code",
      "execution_count": 1,
      "metadata": {
        "id": "oxDrs2UgZH-H"
      },
      "outputs": [],
      "source": [
        "import numpy as np\n",
        "import tensorflow as tf\n",
        "\n"
      ]
    },
    {
      "cell_type": "code",
      "source": [
        "# Define the input matrix (5x5)\n",
        "input_matrix = np.array([\n",
        "    [1, 2, 3, 4, 5],\n",
        "    [6, 7, 8, 9, 10],\n",
        "    [11, 12, 13, 14, 15],\n",
        "    [16, 17, 18, 19, 20],\n",
        "    [21, 22, 23, 24, 25]\n",
        "], dtype=np.float32)\n",
        "\n"
      ],
      "metadata": {
        "id": "QNCxLOP1ZUED"
      },
      "execution_count": 2,
      "outputs": []
    },
    {
      "cell_type": "code",
      "source": [
        "# Reshape input to 4D tensor: [batch, height, width, channels]\n",
        "input_tensor = input_matrix.reshape(1, 5, 5, 1)\n"
      ],
      "metadata": {
        "id": "cTwYVsc-ZcAD"
      },
      "execution_count": 3,
      "outputs": []
    },
    {
      "cell_type": "code",
      "source": [
        "\n",
        "# Define the kernel (3x3)\n",
        "kernel = np.array([\n",
        "    [0, 1, 0],\n",
        "    [1, -4, 1],\n",
        "    [0, 1, 0]\n",
        "], dtype=np.float32)\n"
      ],
      "metadata": {
        "id": "xnPGXLvEZiLA"
      },
      "execution_count": 4,
      "outputs": []
    },
    {
      "cell_type": "code",
      "source": [
        "# Reshape kernel to 4D tensor: [height, width, in_channels, out_channels]\n",
        "kernel_tensor = kernel.reshape(3, 3, 1, 1)\n",
        "\n"
      ],
      "metadata": {
        "id": "TNMdMj6wZndC"
      },
      "execution_count": 5,
      "outputs": []
    },
    {
      "cell_type": "code",
      "source": [
        "# Function to perform convolution and print output\n",
        "def perform_convolution(stride, padding):\n",
        "    result = tf.nn.conv2d(input_tensor, kernel_tensor, strides=[1, stride, stride, 1], padding=padding)\n",
        "    print(f\"\\nStride = {stride}, Padding = '{padding}'\")\n",
        "    print(result.numpy().squeeze())  # Remove extra dimensions for display\n",
        "\n"
      ],
      "metadata": {
        "id": "1pnm_Ly6ZrHg"
      },
      "execution_count": 7,
      "outputs": []
    },
    {
      "cell_type": "code",
      "source": [
        "# Perform required convolutions\n",
        "perform_convolution(stride=1, padding='VALID')\n",
        "perform_convolution(stride=1, padding='SAME')\n",
        "perform_convolution(stride=2, padding='VALID')\n",
        "perform_convolution(stride=2, padding='SAME')"
      ],
      "metadata": {
        "id": "39aAN7kGZuv1",
        "outputId": "c97ed9c0-4716-4d3e-8a45-61d666e7372a",
        "colab": {
          "base_uri": "https://localhost:8080/"
        }
      },
      "execution_count": 8,
      "outputs": [
        {
          "output_type": "stream",
          "name": "stdout",
          "text": [
            "\n",
            "Stride = 1, Padding = 'VALID'\n",
            "[[0. 0. 0.]\n",
            " [0. 0. 0.]\n",
            " [0. 0. 0.]]\n",
            "\n",
            "Stride = 1, Padding = 'SAME'\n",
            "[[  4.   3.   2.   1.  -6.]\n",
            " [ -5.   0.   0.   0. -11.]\n",
            " [-10.   0.   0.   0. -16.]\n",
            " [-15.   0.   0.   0. -21.]\n",
            " [-46. -27. -28. -29. -56.]]\n",
            "\n",
            "Stride = 2, Padding = 'VALID'\n",
            "[[0. 0.]\n",
            " [0. 0.]]\n",
            "\n",
            "Stride = 2, Padding = 'SAME'\n",
            "[[  4.   2.  -6.]\n",
            " [-10.   0. -16.]\n",
            " [-46. -28. -56.]]\n"
          ]
        }
      ]
    }
  ]
}